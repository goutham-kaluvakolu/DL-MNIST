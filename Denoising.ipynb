{
  "cells": [
    {
      "cell_type": "markdown",
      "metadata": {
        "id": "view-in-github",
        "colab_type": "text"
      },
      "source": [
        "<a href=\"https://colab.research.google.com/github/goutham-kaluvakolu/DL-MNIST/blob/main/Denoising.ipynb\" target=\"_parent\"><img src=\"https://colab.research.google.com/assets/colab-badge.svg\" alt=\"Open In Colab\"/></a>"
      ]
    },
    {
      "cell_type": "code",
      "execution_count": 1,
      "metadata": {
        "id": "Ayl3RP0BkolW"
      },
      "outputs": [],
      "source": [
        "import torch\n",
        "import torch.nn as nn\n",
        "import torchvision\n",
        "from torchvision import transforms\n",
        "import numpy as np\n",
        "import matplotlib.pyplot as plt"
      ]
    },
    {
      "cell_type": "code",
      "source": [
        "def transform_with_noise(img):\n",
        "    # Convert the PIL image to a tensor\n",
        "    img = transforms.ToTensor()(img).squeeze(0)\n",
        "\n",
        "    noise_amount = 0.2\n",
        "    num_noise_pixels = int(28 * 28 * noise_amount)\n",
        "\n",
        "    # Add salt noise (white pixels)\n",
        "    noise_coordinates_x = np.random.randint(0, 28, size=(int(num_noise_pixels / 2)))\n",
        "    noise_coordinates_y = np.random.randint(0, 28, size=(int(num_noise_pixels / 2)))\n",
        "    img[noise_coordinates_x, noise_coordinates_y] = 1\n",
        "\n",
        "    # Add pepper noise (black pixels)\n",
        "    noise_coordinates_x = np.random.randint(0, 28, size=(int(num_noise_pixels / 2)))\n",
        "    noise_coordinates_y = np.random.randint(0, 28, size=(int(num_noise_pixels / 2)))\n",
        "    img[noise_coordinates_x, noise_coordinates_y] = 0\n",
        "\n",
        "    return img.unsqueeze(0)\n"
      ],
      "metadata": {
        "id": "zdTJze5FBy-4"
      },
      "execution_count": 26,
      "outputs": []
    },
    {
      "cell_type": "code",
      "source": [
        "transform_with_noise = transforms.Compose([\n",
        "    transforms.ToTensor(),\n",
        "    transforms.Lambda(transform_with_noise)\n",
        "])"
      ],
      "metadata": {
        "id": "arvXSZ9YIGcH"
      },
      "execution_count": null,
      "outputs": []
    },
    {
      "cell_type": "code",
      "execution_count": 31,
      "metadata": {
        "id": "BDB7DM52mWIt"
      },
      "outputs": [],
      "source": [
        "train_dataset = torchvision.datasets.MNIST(root = \"./data\" , train = True , download = True ,  transform = transform_with_noise)\n",
        "valid_dataset = torchvision.datasets.MNIST(root = \"./data\" , train = False , download = True ,  transform = transform_with_noise)\n",
        "o_train_dataset = torchvision.datasets.MNIST(root = \"./data\" , train = True , download = True ,  transform = transforms.ToTensor())\n",
        "o_valid_dataset = torchvision.datasets.MNIST(root = \"./data\" , train = False , download = True ,  transform =  transforms.ToTensor())"
      ]
    },
    {
      "cell_type": "code",
      "source": [
        "img=o_train_dataset[1][0]\n",
        "plt.imshow(img.squeeze(0), cmap='gray')\n",
        "plt.show()"
      ],
      "metadata": {
        "colab": {
          "base_uri": "https://localhost:8080/",
          "height": 430
        },
        "id": "SLcCnSdkHilb",
        "outputId": "f77b2ccd-1cec-42d2-b4e2-4ea7f8b6f80c"
      },
      "execution_count": 33,
      "outputs": [
        {
          "output_type": "display_data",
          "data": {
            "text/plain": [
              "<Figure size 640x480 with 1 Axes>"
            ],
            "image/png": "[encoded data removed]"
          },
          "metadata": {}
        }
      ]
    },
    {
      "cell_type": "code",
      "execution_count": 48,
      "metadata": {
        "id": "PLpwnJ95oZem"
      },
      "outputs": [],
      "source": [
        "train_dl = torch.utils.data.DataLoader(train_dataset , batch_size = 16)\n",
        "val = torch.utils.data.DataLoader(valid_dataset , batch_size = 16)\n",
        "o_train_dl = torch.utils.data.DataLoader(train_dataset , batch_size = 16)\n",
        "o_val = torch.utils.data.DataLoader(valid_dataset , batch_size = 16)"
      ]
    },
    {
      "cell_type": "code",
      "execution_count": 49,
      "metadata": {
        "id": "ZsWkug3fjCfo"
      },
      "outputs": [],
      "source": [
        "class SimpleAutoencoder(nn.Module):\n",
        "    def __init__(self, latent_dimensions, data_shape):\n",
        "        super(SimpleAutoencoder, self).__init__()\n",
        "        self.latent_dimensions = latent_dimensions\n",
        "        self.data_shape = data_shape\n",
        "\n",
        "        # Encoder with dropout\n",
        "        self.encoder = nn.Sequential(\n",
        "            nn.Linear(784, 194),\n",
        "            nn.ReLU(),\n",
        "            nn.Dropout(p=0.1),\n",
        "            nn.Linear(194, 97),\n",
        "            nn.ReLU(),\n",
        "            nn.Dropout(p=0.2),\n",
        "            nn.Linear(97, latent_dimensions),\n",
        "        )\n",
        "\n",
        "        # Decoder\n",
        "        self.decoder = nn.Sequential(\n",
        "            nn.Linear(latent_dimensions, 97),\n",
        "            nn.Dropout(p=0.1),\n",
        "            nn.ReLU(),\n",
        "            nn.Linear(97, 194),\n",
        "            nn.ReLU(),\n",
        "            nn.Dropout(p=0.2),\n",
        "            nn.Linear(194, data_shape[0] * data_shape[1]),\n",
        "            nn.Sigmoid(),\n",
        "        )\n",
        "\n",
        "    def forward(self, x):\n",
        "        encoded_data = self.encoder(x)\n",
        "        decoded_data = self.decoder(encoded_data)\n",
        "        return decoded_data\n"
      ]
    },
    {
      "cell_type": "code",
      "execution_count": 51,
      "metadata": {
        "id": "8qM_zAkzjOp6"
      },
      "outputs": [],
      "source": [
        "latent_dimensions = 48\n",
        "data_shape = (28, 28)\n",
        "model = SimpleAutoencoder(latent_dimensions, data_shape)"
      ]
    },
    {
      "cell_type": "code",
      "execution_count": 52,
      "metadata": {
        "colab": {
          "base_uri": "https://localhost:8080/"
        },
        "id": "u5q6Rjmvpuh9",
        "outputId": "1b1fb2a3-4e1f-4881-84e8-82c70ff7f4fd"
      },
      "outputs": [
        {
          "output_type": "execute_result",
          "data": {
            "text/plain": [
              "device(type='cpu')"
            ]
          },
          "metadata": {},
          "execution_count": 52
        }
      ],
      "source": [
        "device = torch.device(\"cuda\" if torch.cuda.is_available() else \"cpu\")\n",
        "device"
      ]
    },
    {
      "cell_type": "code",
      "execution_count": 53,
      "metadata": {
        "id": "Kcs-VD8np7Pj"
      },
      "outputs": [],
      "source": [
        "loss_fn = nn.MSELoss()\n",
        "optimizer = torch.optim.Adam(model.parameters())"
      ]
    },
    {
      "cell_type": "code",
      "execution_count": 54,
      "metadata": {
        "id": "oS-Af6K9qFR-"
      },
      "outputs": [],
      "source": [
        "train_loss = []\n",
        "valid_loss = []"
      ]
    },
    {
      "cell_type": "code",
      "execution_count": 55,
      "metadata": {
        "id": "dxYrSXQ_qHxp"
      },
      "outputs": [],
      "source": [
        "num_epochs = 100"
      ]
    },
    {
      "cell_type": "code",
      "execution_count": 56,
      "metadata": {
        "id": "5RLHYe8iyT-P"
      },
      "outputs": [],
      "source": [
        "scheduler = torch.optim.lr_scheduler.StepLR(optimizer, step_size=5, gamma=0.1)"
      ]
    },
    {
      "cell_type": "code",
      "execution_count": 57,
      "metadata": {
        "colab": {
          "base_uri": "https://localhost:8080/",
          "height": 772
        },
        "id": "VD6Yvsw9qJH4",
        "outputId": "d283022e-980d-400d-87f1-f282938af684"
      },
      "outputs": [
        {
          "output_type": "stream",
          "name": "stdout",
          "text": [
            "epoch 0 loss 0.1136524832960385\n",
            "dev loss 0.10330781093828238\n",
            "epoch 1 loss 0.10020747419391106\n",
            "dev loss 0.09886974063079068\n",
            "epoch 2 loss 0.097344355621953\n",
            "dev loss 0.09684391291278183\n",
            "epoch 3 loss 0.09593761122144108\n",
            "dev loss 0.09557898940554091\n",
            "epoch 4 loss 0.09500122500031488\n",
            "dev loss 0.09469947807348458\n",
            "epoch 5 loss 0.0941068781956808\n",
            "dev loss 0.09381444196981989\n",
            "epoch 6 loss 0.0938732465272392\n",
            "dev loss 0.09363285081971223\n",
            "epoch 7 loss 0.09381951849216591\n",
            "dev loss 0.09356788204164262\n",
            "epoch 8 loss 0.0936611502457148\n",
            "dev loss 0.09350910759086062\n",
            "epoch 9 loss 0.09364439465248509\n",
            "dev loss 0.09335781823677622\n",
            "epoch 10 loss 0.0935667002124827\n",
            "dev loss 0.09336486729277167\n",
            "epoch 11 loss 0.09356163172865473\n",
            "dev loss 0.09347696896571263\n"
          ]
        },
        {
          "output_type": "error",
          "ename": "KeyboardInterrupt",
          "evalue": "",
          "traceback": [
            "\u001b[0;31m---------------------------------------------------------------------------\u001b[0m",
            "\u001b[0;31mKeyboardInterrupt\u001b[0m                         Traceback (most recent call last)",
            "\u001b[0;32m<ipython-input-57-96c84d13af1b>\u001b[0m in \u001b[0;36m<cell line: 1>\u001b[0;34m()\u001b[0m\n\u001b[1;32m      2\u001b[0m   \u001b[0mtrain_epoch_loss\u001b[0m \u001b[0;34m=\u001b[0m \u001b[0;36m0\u001b[0m\u001b[0;34m\u001b[0m\u001b[0;34m\u001b[0m\u001b[0m\n\u001b[1;32m      3\u001b[0m   \u001b[0mdev_epoch_loss\u001b[0m \u001b[0;34m=\u001b[0m \u001b[0;36m0\u001b[0m\u001b[0;34m\u001b[0m\u001b[0;34m\u001b[0m\u001b[0m\n\u001b[0;32m----> 4\u001b[0;31m   \u001b[0;32mfor\u001b[0m \u001b[0;34m(\u001b[0m\u001b[0mimgs\u001b[0m \u001b[0;34m,\u001b[0m \u001b[0m_\u001b[0m\u001b[0;34m)\u001b[0m\u001b[0;34m,\u001b[0m\u001b[0;34m(\u001b[0m\u001b[0mo_imgs\u001b[0m\u001b[0;34m,\u001b[0m\u001b[0m_\u001b[0m\u001b[0;34m)\u001b[0m \u001b[0;32min\u001b[0m \u001b[0mzip\u001b[0m\u001b[0;34m(\u001b[0m\u001b[0mtrain_dl\u001b[0m\u001b[0;34m,\u001b[0m\u001b[0mo_train_dl\u001b[0m\u001b[0;34m)\u001b[0m\u001b[0;34m:\u001b[0m\u001b[0;34m\u001b[0m\u001b[0;34m\u001b[0m\u001b[0m\n\u001b[0m\u001b[1;32m      5\u001b[0m     \u001b[0mimgs\u001b[0m \u001b[0;34m=\u001b[0m \u001b[0mimgs\u001b[0m\u001b[0;34m.\u001b[0m\u001b[0mto\u001b[0m\u001b[0;34m(\u001b[0m\u001b[0mdevice\u001b[0m\u001b[0;34m)\u001b[0m\u001b[0;34m\u001b[0m\u001b[0;34m\u001b[0m\u001b[0m\n\u001b[1;32m      6\u001b[0m     \u001b[0mo_imgs\u001b[0m \u001b[0;34m=\u001b[0m \u001b[0mo_imgs\u001b[0m\u001b[0;34m.\u001b[0m\u001b[0mto\u001b[0m\u001b[0;34m(\u001b[0m\u001b[0mdevice\u001b[0m\u001b[0;34m)\u001b[0m\u001b[0;34m\u001b[0m\u001b[0;34m\u001b[0m\u001b[0m\n",
            "\u001b[0;32m/usr/local/lib/python3.10/dist-packages/torch/utils/data/dataloader.py\u001b[0m in \u001b[0;36m__next__\u001b[0;34m(self)\u001b[0m\n\u001b[1;32m    629\u001b[0m                 \u001b[0;31m# TODO(https://github.com/pytorch/pytorch/issues/76750)\u001b[0m\u001b[0;34m\u001b[0m\u001b[0;34m\u001b[0m\u001b[0m\n\u001b[1;32m    630\u001b[0m                 \u001b[0mself\u001b[0m\u001b[0;34m.\u001b[0m\u001b[0m_reset\u001b[0m\u001b[0;34m(\u001b[0m\u001b[0;34m)\u001b[0m  \u001b[0;31m# type: ignore[call-arg]\u001b[0m\u001b[0;34m\u001b[0m\u001b[0;34m\u001b[0m\u001b[0m\n\u001b[0;32m--> 631\u001b[0;31m             \u001b[0mdata\u001b[0m \u001b[0;34m=\u001b[0m \u001b[0mself\u001b[0m\u001b[0;34m.\u001b[0m\u001b[0m_next_data\u001b[0m\u001b[0;34m(\u001b[0m\u001b[0;34m)\u001b[0m\u001b[0;34m\u001b[0m\u001b[0;34m\u001b[0m\u001b[0m\n\u001b[0m\u001b[1;32m    632\u001b[0m             \u001b[0mself\u001b[0m\u001b[0;34m.\u001b[0m\u001b[0m_num_yielded\u001b[0m \u001b[0;34m+=\u001b[0m \u001b[0;36m1\u001b[0m\u001b[0;34m\u001b[0m\u001b[0;34m\u001b[0m\u001b[0m\n\u001b[1;32m    633\u001b[0m             \u001b[0;32mif\u001b[0m \u001b[0mself\u001b[0m\u001b[0;34m.\u001b[0m\u001b[0m_dataset_kind\u001b[0m \u001b[0;34m==\u001b[0m \u001b[0m_DatasetKind\u001b[0m\u001b[0;34m.\u001b[0m\u001b[0mIterable\u001b[0m \u001b[0;32mand\u001b[0m\u001b[0;31m \u001b[0m\u001b[0;31m\\\u001b[0m\u001b[0;34m\u001b[0m\u001b[0;34m\u001b[0m\u001b[0m\n",
            "\u001b[0;32m/usr/local/lib/python3.10/dist-packages/torch/utils/data/dataloader.py\u001b[0m in \u001b[0;36m_next_data\u001b[0;34m(self)\u001b[0m\n\u001b[1;32m    672\u001b[0m \u001b[0;34m\u001b[0m\u001b[0m\n\u001b[1;32m    673\u001b[0m     \u001b[0;32mdef\u001b[0m \u001b[0m_next_data\u001b[0m\u001b[0;34m(\u001b[0m\u001b[0mself\u001b[0m\u001b[0;34m)\u001b[0m\u001b[0;34m:\u001b[0m\u001b[0;34m\u001b[0m\u001b[0;34m\u001b[0m\u001b[0m\n\u001b[0;32m--> 674\u001b[0;31m         \u001b[0mindex\u001b[0m \u001b[0;34m=\u001b[0m \u001b[0mself\u001b[0m\u001b[0;34m.\u001b[0m\u001b[0m_next_index\u001b[0m\u001b[0;34m(\u001b[0m\u001b[0;34m)\u001b[0m  \u001b[0;31m# may raise StopIteration\u001b[0m\u001b[0;34m\u001b[0m\u001b[0;34m\u001b[0m\u001b[0m\n\u001b[0m\u001b[1;32m    675\u001b[0m         \u001b[0mdata\u001b[0m \u001b[0;34m=\u001b[0m \u001b[0mself\u001b[0m\u001b[0;34m.\u001b[0m\u001b[0m_dataset_fetcher\u001b[0m\u001b[0;34m.\u001b[0m\u001b[0mfetch\u001b[0m\u001b[0;34m(\u001b[0m\u001b[0mindex\u001b[0m\u001b[0;34m)\u001b[0m  \u001b[0;31m# may raise StopIteration\u001b[0m\u001b[0;34m\u001b[0m\u001b[0;34m\u001b[0m\u001b[0m\n\u001b[1;32m    676\u001b[0m         \u001b[0;32mif\u001b[0m \u001b[0mself\u001b[0m\u001b[0;34m.\u001b[0m\u001b[0m_pin_memory\u001b[0m\u001b[0;34m:\u001b[0m\u001b[0;34m\u001b[0m\u001b[0;34m\u001b[0m\u001b[0m\n",
            "\u001b[0;32m/usr/local/lib/python3.10/dist-packages/torch/utils/data/dataloader.py\u001b[0m in \u001b[0;36m_next_index\u001b[0;34m(self)\u001b[0m\n\u001b[1;32m    619\u001b[0m \u001b[0;34m\u001b[0m\u001b[0m\n\u001b[1;32m    620\u001b[0m     \u001b[0;32mdef\u001b[0m \u001b[0m_next_index\u001b[0m\u001b[0;34m(\u001b[0m\u001b[0mself\u001b[0m\u001b[0;34m)\u001b[0m\u001b[0;34m:\u001b[0m\u001b[0;34m\u001b[0m\u001b[0;34m\u001b[0m\u001b[0m\n\u001b[0;32m--> 621\u001b[0;31m         \u001b[0;32mreturn\u001b[0m \u001b[0mnext\u001b[0m\u001b[0;34m(\u001b[0m\u001b[0mself\u001b[0m\u001b[0;34m.\u001b[0m\u001b[0m_sampler_iter\u001b[0m\u001b[0;34m)\u001b[0m  \u001b[0;31m# may raise StopIteration\u001b[0m\u001b[0;34m\u001b[0m\u001b[0;34m\u001b[0m\u001b[0m\n\u001b[0m\u001b[1;32m    622\u001b[0m \u001b[0;34m\u001b[0m\u001b[0m\n\u001b[1;32m    623\u001b[0m     \u001b[0;32mdef\u001b[0m \u001b[0m_next_data\u001b[0m\u001b[0;34m(\u001b[0m\u001b[0mself\u001b[0m\u001b[0;34m)\u001b[0m\u001b[0;34m:\u001b[0m\u001b[0;34m\u001b[0m\u001b[0;34m\u001b[0m\u001b[0m\n",
            "\u001b[0;32m/usr/local/lib/python3.10/dist-packages/torch/utils/data/sampler.py\u001b[0m in \u001b[0;36m__iter__\u001b[0;34m(self)\u001b[0m\n\u001b[1;32m      1\u001b[0m \u001b[0;32mimport\u001b[0m \u001b[0mtorch\u001b[0m\u001b[0;34m\u001b[0m\u001b[0;34m\u001b[0m\u001b[0m\n\u001b[1;32m      2\u001b[0m \u001b[0;32mfrom\u001b[0m \u001b[0mtorch\u001b[0m \u001b[0;32mimport\u001b[0m \u001b[0mTensor\u001b[0m\u001b[0;34m\u001b[0m\u001b[0;34m\u001b[0m\u001b[0m\n\u001b[1;32m      3\u001b[0m \u001b[0;34m\u001b[0m\u001b[0m\n\u001b[1;32m      4\u001b[0m \u001b[0;32mfrom\u001b[0m \u001b[0mtyping\u001b[0m \u001b[0;32mimport\u001b[0m \u001b[0mIterator\u001b[0m\u001b[0;34m,\u001b[0m \u001b[0mIterable\u001b[0m\u001b[0;34m,\u001b[0m \u001b[0mOptional\u001b[0m\u001b[0;34m,\u001b[0m \u001b[0mSequence\u001b[0m\u001b[0;34m,\u001b[0m \u001b[0mList\u001b[0m\u001b[0;34m,\u001b[0m \u001b[0mTypeVar\u001b[0m\u001b[0;34m,\u001b[0m \u001b[0mGeneric\u001b[0m\u001b[0;34m,\u001b[0m \u001b[0mSized\u001b[0m\u001b[0;34m,\u001b[0m \u001b[0mUnion\u001b[0m\u001b[0;34m\u001b[0m\u001b[0;34m\u001b[0m\u001b[0m\n\u001b[1;32m      5\u001b[0m \u001b[0;34m\u001b[0m\u001b[0m\n",
            "\u001b[0;31mKeyboardInterrupt\u001b[0m: "
          ]
        }
      ],
      "source": [
        "for epoch in range(num_epochs):\n",
        "  train_epoch_loss = 0\n",
        "  dev_epoch_loss = 0\n",
        "  for (imgs , _),(o_imgs,_) in zip(train_dl,o_train_dl):\n",
        "    imgs = imgs.to(device)\n",
        "    o_imgs = o_imgs.to(device)\n",
        "    imgs = imgs.flatten(1)\n",
        "    o_imgs = imgs.flatten(1)\n",
        "    output = model(imgs)\n",
        "    loss = loss_fn(output.view(-1,28*28), o_imgs)\n",
        "    train_epoch_loss += loss.cpu().detach().numpy()\n",
        "    optimizer.zero_grad()\n",
        "    loss.backward()\n",
        "    optimizer.step()\n",
        "  scheduler.step()\n",
        "  print(f\"epoch {epoch} loss {train_epoch_loss/len(train_dl)}\")\n",
        "  train_loss.append(train_epoch_loss/len(train_dl))\n",
        "  with torch.no_grad():\n",
        "    for (imgs , _),(o_imgs,_) in zip(val,o_val):\n",
        "      imgs = imgs.to(device)\n",
        "      o_imgs = o_imgs.to(device)\n",
        "      imgs = imgs.flatten(1)\n",
        "      o_imgs = imgs.flatten(1)\n",
        "      output = model(imgs)\n",
        "      loss = loss_fn(output.view(-1,28*28), o_imgs)\n",
        "      dev_epoch_loss += loss.cpu().detach().numpy()\n",
        "    print(f\"dev loss {dev_epoch_loss/len(val)}\")\n",
        "    valid_loss.append(dev_epoch_loss/len(val))\n",
        "torch.save(model.state_dict(), 'model_weights.pth')"
      ]
    },
    {
      "cell_type": "code",
      "execution_count": null,
      "metadata": {
        "id": "33zOmH7KHKSS"
      },
      "outputs": [],
      "source": [
        "torch.save(model.state_dict(), 'model_weights.pth')"
      ]
    },
    {
      "cell_type": "code",
      "execution_count": 58,
      "metadata": {
        "colab": {
          "base_uri": "https://localhost:8080/",
          "height": 430
        },
        "id": "2RL1DRazrOPw",
        "outputId": "9b3cf1d0-ee13-40e7-e1d4-a8e38691fb56"
      },
      "outputs": [
        {
          "output_type": "display_data",
          "data": {
            "text/plain": [
              "<Figure size 640x480 with 1 Axes>"
            ],
            "image/png": "[encoded data removed]"
          },
          "metadata": {}
        }
      ],
      "source": [
        "# prompt: #trainloss in green and vaild loss in red\n",
        "\n",
        "import matplotlib.pyplot as plt\n",
        "\n",
        "plt.plot(train_loss, color='green', label='train_loss')\n",
        "plt.plot(valid_loss, color='red', label='valid_loss')\n",
        "plt.legend()\n",
        "plt.show()\n"
      ]
    },
    {
      "cell_type": "code",
      "source": [
        "# prompt: take first 5 images from val and pass it to autoencoder and plt them side by side\n",
        "\n",
        "import matplotlib.pyplot as plt\n",
        "\n",
        "# Get the first 5 images from the validation set\n",
        "images = valid_dataset.data[:5]\n",
        "# images = train_dataset.data[:5]\n",
        "\n",
        "images = images.to(device)\n",
        "# images = images.flatten(1)\n",
        "images =  images/255.0\n",
        "\n",
        "# Get the labels for the first 5 images\n",
        "# Pass the images through the autoencoder\n",
        "encoded_images = model.encoder(images.view(-1, 784))\n",
        "decoded_images = model.decoder(encoded_images)\n",
        "\n",
        "# Plot the original and decoded images side by side\n",
        "for i in range(5):\n",
        "  plt.subplot(2, 5, i + 1)\n",
        "  plt.imshow(images[i].numpy().reshape(28, 28), cmap='gray')\n",
        "  plt.axis('off')\n",
        "  plt.subplot(2, 5, i + 6)\n",
        "  plt.imshow(decoded_images[i].cpu().detach().numpy().reshape(28, 28), cmap='gray')\n",
        "  plt.axis('off')\n",
        "plt.show()\n"
      ],
      "metadata": {
        "colab": {
          "base_uri": "https://localhost:8080/",
          "height": 324
        },
        "id": "_DaoCuSQhAs4",
        "outputId": "b817715d-c2d0-44fd-c6d5-756385bc7e99"
      },
      "execution_count": 59,
      "outputs": [
        {
          "output_type": "display_data",
          "data": {
            "text/plain": [
              "<Figure size 640x480 with 10 Axes>"
            ],
            "image/png": "[encoded data removed]"
          },
          "metadata": {}
        }
      ]
    },
    {
      "cell_type": "code",
      "execution_count": null,
      "metadata": {
        "colab": {
          "base_uri": "https://localhost:8080/"
        },
        "id": "KgzIL09C8IwJ",
        "outputId": "e8447882-028b-445f-e591-6f5aca3b6f6e"
      },
      "outputs": [
        {
          "output_type": "stream",
          "name": "stdout",
          "text": [
            "----------------------------------------------------------------\n",
            "        Layer (type)               Output Shape         Param #\n",
            "================================================================\n",
            "            Linear-1               [-1, 1, 194]         152,290\n",
            "              ReLU-2               [-1, 1, 194]               0\n",
            "           Dropout-3               [-1, 1, 194]               0\n",
            "            Linear-4                [-1, 1, 97]          18,915\n",
            "              ReLU-5                [-1, 1, 97]               0\n",
            "           Dropout-6                [-1, 1, 97]               0\n",
            "            Linear-7                [-1, 1, 48]           4,704\n",
            "            Linear-8                [-1, 1, 97]           4,753\n",
            "           Dropout-9                [-1, 1, 97]               0\n",
            "             ReLU-10                [-1, 1, 97]               0\n",
            "           Linear-11               [-1, 1, 194]          19,012\n",
            "             ReLU-12               [-1, 1, 194]               0\n",
            "          Dropout-13               [-1, 1, 194]               0\n",
            "           Linear-14               [-1, 1, 784]         152,880\n",
            "          Sigmoid-15               [-1, 1, 784]               0\n",
            "================================================================\n",
            "Total params: 352,554\n",
            "Trainable params: 352,554\n",
            "Non-trainable params: 0\n",
            "----------------------------------------------------------------\n",
            "Input size (MB): 0.00\n",
            "Forward/backward pass size (MB): 0.03\n",
            "Params size (MB): 1.34\n",
            "Estimated Total Size (MB): 1.37\n",
            "----------------------------------------------------------------\n"
          ]
        }
      ],
      "source": [
        "from torchsummary import summary\n",
        "summary(model, (1, 28*28))\n"
      ]
    },
    {
      "cell_type": "code",
      "execution_count": null,
      "metadata": {
        "id": "HC7C9dHSlC8e",
        "colab": {
          "base_uri": "https://localhost:8080/"
        },
        "outputId": "19f297ff-bac4-4f1f-e333-15731b059133"
      },
      "outputs": [
        {
          "output_type": "stream",
          "name": "stdout",
          "text": [
            "train dataset shape: torch.Size([60000, 28, 28]), 47040000\n",
            "latent vectors shape: torch.Size([60000, 48]), is 2880000\n",
            "img comressed: 16.333333333333332 times\n"
          ]
        }
      ],
      "source": [
        "model.eval()\n",
        "\n",
        "latent_vectors = []\n",
        "\n",
        "with torch.no_grad():\n",
        "  for imgs, _ in train_dl:\n",
        "    imgs = imgs.to(device)\n",
        "    imgs = imgs.flatten(1)\n",
        "    latent_vectors.append(model.encoder(imgs))\n",
        "\n",
        "# Concatenate the latent vectors into a single tensor\n",
        "latent_vectors = torch.cat(latent_vectors, dim=0)\n",
        "\n",
        "print(f\"train dataset shape: {train_dataset.data.shape}, {60000 * 28 * 28}\")\n",
        "print(f\"latent vectors shape: {latent_vectors.shape}, is {60000 * 48}\")\n",
        "print(f\"img comressed: {28 * 28 / 48} times\")"
      ]
    }
  ],
  "metadata": {
    "colab": {
      "provenance": [],
      "include_colab_link": true
    },
    "kernelspec": {
      "display_name": "Python 3",
      "name": "python3"
    },
    "language_info": {
      "name": "python"
    }
  },
  "nbformat": 4,
  "nbformat_minor": 0
}